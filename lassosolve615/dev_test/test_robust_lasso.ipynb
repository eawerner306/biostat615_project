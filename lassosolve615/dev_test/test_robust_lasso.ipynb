{
 "cells": [
  {
   "cell_type": "code",
   "execution_count": 58,
   "metadata": {
    "vscode": {
     "languageId": "r"
    }
   },
   "outputs": [
    {
     "name": "stdout",
     "output_type": "stream",
     "text": [
      "$method\n",
      "[1] \"ISTA\"\n",
      "\n",
      "$fit\n",
      "$fit$beta\n",
      "           [,1]\n",
      " [1,] 1.4272367\n",
      " [2,] 3.0690189\n",
      " [3,] 0.7908428\n",
      " [4,] 3.4335464\n",
      " [5,] 2.8472139\n",
      " [6,] 2.2948153\n",
      " [7,] 2.5199850\n",
      " [8,] 2.1631920\n",
      " [9,] 1.4909331\n",
      "[10,] 1.6115176\n",
      "[11,] 0.0000000\n",
      "[12,] 0.0000000\n",
      "[13,] 0.0000000\n",
      "[14,] 0.0000000\n",
      "[15,] 0.0000000\n",
      "[16,] 0.0000000\n",
      "[17,] 0.0000000\n",
      "[18,] 0.0000000\n",
      "[19,] 0.0000000\n",
      "[20,] 0.0000000\n",
      "[21,] 0.0000000\n",
      "[22,] 0.0000000\n",
      "[23,] 0.0000000\n",
      "[24,] 0.0000000\n",
      "[25,] 0.0000000\n",
      "[26,] 0.0000000\n",
      "[27,] 0.0000000\n",
      "[28,] 0.0000000\n",
      "[29,] 0.0000000\n",
      "[30,] 0.0000000\n",
      "[31,] 0.0000000\n",
      "[32,] 0.0000000\n",
      "[33,] 0.0000000\n",
      "[34,] 0.0000000\n",
      "[35,] 0.0000000\n",
      "[36,] 0.0000000\n",
      "[37,] 0.0000000\n",
      "[38,] 0.0000000\n",
      "[39,] 0.0000000\n",
      "[40,] 0.0000000\n",
      "[41,] 0.0000000\n",
      "[42,] 0.0000000\n",
      "[43,] 0.0000000\n",
      "[44,] 0.0000000\n",
      "[45,] 0.0000000\n",
      "[46,] 0.0000000\n",
      "[47,] 0.0000000\n",
      "[48,] 0.0000000\n",
      "[49,] 0.0000000\n",
      "[50,] 0.0000000\n",
      "\n",
      "$fit$iter\n",
      "[1] 79\n",
      "\n",
      "$fit$convergence\n",
      "[1] TRUE\n",
      "\n",
      "\n"
     ]
    }
   ],
   "source": [
    "library(glmnet)\n",
    "\n",
    "# 测试 Lasso 回归函数\n",
    "result <- robust_lasso(simulated_data$X, simulated_data$y, lambda = 0.05, method = \"auto\")\n",
    "print(result)"
   ]
  },
  {
   "cell_type": "code",
   "execution_count": 5,
   "metadata": {
    "vscode": {
     "languageId": "r"
    }
   },
   "outputs": [],
   "source": [
    "set.seed(123)\n",
    "\n",
    "# 模拟数据集生成函数\n",
    "generate_simulated_data <- function(n_samples = 100, n_features = 50, n_informative = 10, noise = 0.1) {\n",
    "  X <- matrix(rnorm(n_samples * n_features), nrow = n_samples, ncol = n_features)\n",
    "  beta <- c(rnorm(n_informative, mean = 2), rep(0, n_features - n_informative)) # 稀疏系数\n",
    "  y <- X %*% beta + rnorm(n_samples, sd = noise) # 响应变量加噪声\n",
    "  list(X = X, y = as.vector(y), true_beta = beta)\n",
    "}\n",
    "\n",
    "# 生成模拟数据\n",
    "simulated_data <- generate_simulated_data(n_samples = 100, n_features = 50, n_informative = 10, noise = 0.1)\n",
    "X <- simulated_data$X\n",
    "y <- simulated_data$y\n",
    "true_beta <- simulated_data$true_beta\n",
    "\n",
    "\n",
    "  \n",
    "  \n"
   ]
  },
  {
   "cell_type": "code",
   "execution_count": 6,
   "metadata": {
    "vscode": {
     "languageId": "r"
    }
   },
   "outputs": [],
   "source": [
    "source(\"robust_lasso.R\")"
   ]
  },
  {
   "cell_type": "code",
   "execution_count": 7,
   "metadata": {
    "vscode": {
     "languageId": "r"
    }
   },
   "outputs": [
    {
     "name": "stdout",
     "output_type": "stream",
     "text": [
      "[1] \"ISTA\"\n",
      "Dimensions of X: 100 50 \n",
      "Length of estimated_beta: 50 \n"
     ]
    }
   ],
   "source": [
    "# 假设 robust_lasso 已实现，返回值包含 method 和 fit 两个部分\n",
    "result <- robust_lasso(X, y, lambda = 0.05, method = \"auto\")\n",
    "print(result$method) # 期望输出 \"Lasso\"\n",
    "# 提取拟合系数和截距\n",
    "estimated_beta <- as.vector(result$fit$beta[-1]) # 去掉截距项\n",
    "intercept <- result$fit$a0                      # 截距\n",
    "\n",
    "# 检查维度是否匹配\n",
    "cat(\"Dimensions of X:\", dim(X), \"\\n\")\n",
    "cat(\"Length of estimated_beta:\", length(estimated_beta), \"\\n\")\n",
    "\n",
    "# 确保维度一致后计算预测值\n",
    "if (ncol(X) != length(estimated_beta)) {\n",
    "  stop(\"The dimensions of X and estimated_beta do not match!\")\n",
    "}\n",
    "y_pred <- X %*% estimated_beta + intercept # 加入截距项\n",
    "\n"
   ]
  },
  {
   "cell_type": "code",
   "execution_count": 8,
   "metadata": {
    "vscode": {
     "languageId": "r"
    }
   },
   "outputs": [
    {
     "name": "stdout",
     "output_type": "stream",
     "text": [
      "Mean Squared Error (MSE): 0.000652151 \n",
      "Relative Error: 0.02424062 \n",
      "Sparsity Match: 1 \n",
      "R Squared (R^2): 1 \n"
     ]
    }
   ],
   "source": [
    "# --- 计算拟合质量指标 ---\n",
    "compute_metrics <- function(true_beta, estimated_beta, y, y_pred) {\n",
    "  mse <- mean((estimated_beta - true_beta)^2)\n",
    "  relative_error <- sqrt(sum((estimated_beta - true_beta)^2)) / sqrt(sum(true_beta^2))\n",
    "  sparsity_match <- sum((estimated_beta != 0) == (true_beta != 0)) / length(true_beta)\n",
    "  \n",
    "  # 计算 R^2\n",
    "  rss <- sum((y - y_pred)^2) # Residual Sum of Squares\n",
    "  tss <- sum((y - mean(y))^2) # Total Sum of Squares\n",
    "  r_squared <- 1 - (rss / tss)\n",
    "  list(MSE = mse, Relative_Error = relative_error, Sparsity_Match = sparsity_match, R_Squared = r_squared)\n",
    "}\n",
    "\n",
    "# 计算指标\n",
    "metrics <- compute_metrics(true_beta, estimated_beta, y, y_pred)\n",
    "\n",
    "# 显示结果\n",
    "cat(\"Mean Squared Error (MSE):\", metrics$MSE, \"\\n\")\n",
    "cat(\"Relative Error:\", metrics$Relative_Error, \"\\n\")\n",
    "cat(\"Sparsity Match:\", metrics$Sparsity_Match, \"\\n\")\n",
    "cat(\"R Squared (R^2):\", metrics$R_Squared, \"\\n\")"
   ]
  },
  {
   "cell_type": "code",
   "execution_count": 8,
   "metadata": {
    "vscode": {
     "languageId": "r"
    }
   },
   "outputs": [],
   "source": [
    "library(glmnet)\n",
    "\n",
    "# 下载并加载测试数据集\n",
    "download_data <- function() {\n",
    "  # 使用 R 自带的 Boston Housing 数据集\n",
    "  if (!requireNamespace(\"MASS\", quietly = TRUE)) {\n",
    "    install.packages(\"MASS\")\n",
    "  }\n",
    "  data(\"Boston\", package = \"MASS\")\n",
    "  Boston\n",
    "}\n"
   ]
  },
  {
   "cell_type": "code",
   "execution_count": 9,
   "metadata": {
    "vscode": {
     "languageId": "r"
    }
   },
   "outputs": [],
   "source": [
    "# 数据预处理\n",
    "prepare_data <- function(data) {\n",
    "  y <- data$medv  # 房价作为响应变量\n",
    "  X <- as.matrix(data[, -which(names(data) == \"medv\")])  # 剔除响应变量列\n",
    "  return(list(X = X, y = y))\n",
    "}\n",
    "\n"
   ]
  },
  {
   "cell_type": "code",
   "execution_count": null,
   "metadata": {
    "vscode": {
     "languageId": "r"
    }
   },
   "outputs": [],
   "source": []
  },
  {
   "cell_type": "code",
   "execution_count": 42,
   "metadata": {
    "vscode": {
     "languageId": "r"
    }
   },
   "outputs": [],
   "source": [
    "# 测试 robust_lasso 和 glmnet\n",
    "test_lasso <- function(X, y, lambda) {\n",
    "  # Run custom algorithm\n",
    "  result_custom <- robust_lasso(X, y, lambda = lambda, method = \"auto\")  # 调用你实现的函数\n",
    "  print(result_custom$method)\n",
    "  \n",
    "  # Run glmnet for comparison\n",
    "  fit_glmnet <- glmnet(X, y, alpha = 1, lambda = lambda, intercept = TRUE)\n",
    "  beta_glmnet <- as.vector(coef(fit_glmnet, s = lambda))  # Includes intercept\n",
    "  \n",
    "  # Compute predictions\n",
    "  y_pred_custom <- cbind(1, X) %*% result_custom$fit$beta  # Robust_lasso predictions\n",
    "  y_pred_glmnet <- predict(fit_glmnet, X, s = lambda)      # glmnet predictions\n",
    "  \n",
    "  # Compute MSE\n",
    "  mse_custom <- mean((y - y_pred_custom)^2)\n",
    "  mse_glmnet <- mean((y - y_pred_glmnet)^2)\n",
    "  \n",
    "  return(list(\n",
    "    custom_beta = result_custom$fit$beta,\n",
    "    glmnet_beta = beta_glmnet,\n",
    "    mse_custom = mse_custom,\n",
    "    mse_glmnet = mse_glmnet\n",
    "  ))\n",
    "}\n"
   ]
  },
  {
   "cell_type": "code",
   "execution_count": 30,
   "metadata": {
    "vscode": {
     "languageId": "r"
    }
   },
   "outputs": [],
   "source": [
    "\n",
    "# 主测试函数\n",
    "run_test <- function() {\n",
    "  # 下载并准备数据\n",
    "  data <- download_data()\n",
    "  data_prepared <- prepare_data(data)\n",
    "  X <- data_prepared$X\n",
    "  y <- data_prepared$y\n",
    "  \n",
    "  # Set lambda for Lasso\n",
    "  lambda <- 0.1\n",
    "  \n",
    "  # Compare robust_lasso and glmnet\n",
    "  results <- test_lasso(X, y, lambda)\n",
    "  \n",
    "  # Print results\n",
    "  cat(\"Custom Lasso Coefficients (including intercept):\\n\")\n",
    "  print(results$custom_beta)\n",
    "  cat(\"\\nGLMNet Lasso Coefficients (including intercept):\\n\")\n",
    "  print(results$glmnet_beta)\n",
    "  \n",
    "  cat(\"\\nMean Squared Error (Custom Lasso):\", results$mse_custom, \"\\n\")\n",
    "  cat(\"Mean Squared Error (GLMNet):\", results$mse_glmnet, \"\\n\")\n",
    "}\n",
    "\n"
   ]
  },
  {
   "cell_type": "code",
   "execution_count": 36,
   "metadata": {
    "vscode": {
     "languageId": "r"
    }
   },
   "outputs": [],
   "source": [
    "source(\"../R/robust_lasso.R\")\n",
    "\n"
   ]
  },
  {
   "cell_type": "code",
   "execution_count": null,
   "metadata": {
    "vscode": {
     "languageId": "r"
    }
   },
   "outputs": [
    {
     "name": "stdout",
     "output_type": "stream",
     "text": [
      "[1] \"ISTA\"\n",
      "Custom Lasso Coefficients (including intercept):\n",
      " [1] 32.266893292 -0.100686904  0.052748641 -0.049005875  0.998965616\n",
      " [6] -0.519935233  2.932779546 -0.004849263 -1.200759399  0.298769746\n",
      "[11] -0.015218729 -0.814947082  0.009751215 -0.618389041\n",
      "\n",
      "GLMNet Lasso Coefficients (including intercept):\n",
      " [1]  29.738867187  -0.073641517   0.030471044   0.000000000   2.589928446\n",
      " [6] -13.634864366   4.021614153   0.000000000  -1.153964162   0.138963131\n",
      "[11]  -0.005083611  -0.889610987   0.008359448  -0.522581066\n",
      "\n",
      "Mean Squared Error (Custom Lasso): 23.2564 \n",
      "Mean Squared Error (GLMNet): 22.33831 \n"
     ]
    }
   ],
   "source": [
    "#TODO: 对于Boston Housing数据集，用Coordinate Descent时MSE最小，auto选择的ista第二小\n",
    "# Run the test\n",
    "run_test()"
   ]
  }
 ],
 "metadata": {
  "kernelspec": {
   "display_name": "R",
   "language": "R",
   "name": "ir"
  },
  "language_info": {
   "codemirror_mode": "r",
   "file_extension": ".r",
   "mimetype": "text/x-r-source",
   "name": "R",
   "pygments_lexer": "r",
   "version": "4.4.2"
  }
 },
 "nbformat": 4,
 "nbformat_minor": 2
}
