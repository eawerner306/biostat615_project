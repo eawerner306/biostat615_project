{
 "cells": [
  {
   "cell_type": "code",
   "execution_count": 8,
   "metadata": {
    "vscode": {
     "languageId": "r"
    }
   },
   "outputs": [],
   "source": [
    "ISTA_lassosolve <- function(X, y, lambda, max_iter = 1000, tol = 1e-6) {\n",
    "  n <- nrow(X)\n",
    "  p <- ncol(X)\n",
    "\n",
    "  # Center X and y for numerical stability\n",
    "  X_mean <- colMeans(X)\n",
    "  y_mean <- mean(y)\n",
    "  X_centered <- scale(X, center = X_mean, scale = FALSE)\n",
    "  y_centered <- y - y_mean\n",
    "\n",
    "  # Precompute X'X and X'y\n",
    "  XtX <- crossprod(X_centered) / n\n",
    "  Xty <- crossprod(X_centered, y_centered) / n\n",
    "\n",
    "  # Lipschitz constant (L = max eigenvalue of XtX)\n",
    "  L <- max(eigen(XtX, symmetric = TRUE, only.values = TRUE)$values)\n",
    "\n",
    "  # Initialize beta (use Ridge regression initialization for better accuracy)\n",
    "  beta <- solve(XtX + diag(lambda, p), Xty)\n",
    "\n",
    "  # Soft-thresholding function\n",
    "  soft_threshold <- function(z, gamma) {\n",
    "    sign(z) * pmax(0, abs(z) - gamma)\n",
    "  }\n",
    "\n",
    "  # ISTA Iterations\n",
    "  for (iter in 1:max_iter) {\n",
    "    # Gradient calculation\n",
    "    gradient <- XtX %*% beta - Xty\n",
    "    beta_new <- soft_threshold(beta - (1 / L) * gradient, lambda / L)\n",
    "\n",
    "    # Check convergence using relative error\n",
    "    if (sqrt(sum((beta_new - beta)^2)) / max(1, sqrt(sum(beta^2))) < tol) {\n",
    "      intercept <- y_mean - sum(X_mean * beta_new)  # Restore intercept\n",
    "      full_beta <- c(intercept, beta_new)          # Combine intercept and coefficients\n",
    "      return(list(beta = full_beta, iter = iter, convergence = TRUE))\n",
    "    }\n",
    "\n",
    "    # Update beta\n",
    "    beta <- beta_new\n",
    "  }\n",
    "\n",
    "  # Final intercept calculation\n",
    "  intercept <- y_mean - sum(X_mean * beta)\n",
    "  full_beta <- c(intercept, beta)\n",
    "\n",
    "  return(list(beta = full_beta, iter = max_iter, convergence = FALSE))\n",
    "}\n"
   ]
  },
  {
   "cell_type": "code",
   "execution_count": 9,
   "metadata": {
    "vscode": {
     "languageId": "r"
    }
   },
   "outputs": [
    {
     "name": "stdout",
     "output_type": "stream",
     "text": [
      "Fitted coefficients (with intercept):\n",
      " [1]  5.14042631  0.95608943 -0.91324410 -0.06293648  0.07228975  0.00000000\n",
      " [7]  0.00000000  0.00000000  0.04065107  0.00000000  0.06717730\n",
      "Number of iterations: 19 \n",
      "Convergence: TRUE \n"
     ]
    }
   ],
   "source": [
    "set.seed(123)\n",
    "\n",
    "# 模拟数据\n",
    "n <- 100  # 样本数\n",
    "p <- 10   # 特征数\n",
    "X <- matrix(rnorm(n * p), n, p)           # 特征矩阵\n",
    "beta_true <- c(5, 1, -1, rep(0, p - 2))  # 包括截距项（5）和稀疏系数\n",
    "y <- X %*% beta_true[-1] + beta_true[1] + rnorm(n)  # 生成响应变量\n",
    "\n",
    "# 正则化参数\n",
    "lambda <- 0.1\n",
    "\n",
    "# 调用 ISTA_lassosolve\n",
    "result <- ISTA_lassosolve(X, y, lambda)\n",
    "\n",
    "# 查看结果\n",
    "cat(\"Fitted coefficients (with intercept):\\n\")\n",
    "print(result$beta)  # 包括截距项的系数\n",
    "cat(\"Number of iterations:\", result$iter, \"\\n\")\n",
    "cat(\"Convergence:\", result$convergence, \"\\n\")\n"
   ]
  }
 ],
 "metadata": {
  "kernelspec": {
   "display_name": "R",
   "language": "R",
   "name": "ir"
  },
  "language_info": {
   "codemirror_mode": "r",
   "file_extension": ".r",
   "mimetype": "text/x-r-source",
   "name": "R",
   "pygments_lexer": "r",
   "version": "4.4.2"
  }
 },
 "nbformat": 4,
 "nbformat_minor": 2
}
