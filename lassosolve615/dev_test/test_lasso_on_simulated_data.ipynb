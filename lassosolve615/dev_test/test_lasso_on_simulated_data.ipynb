{
 "cells": [
  {
   "cell_type": "code",
   "execution_count": null,
   "metadata": {
    "vscode": {
     "languageId": "r"
    }
   },
   "outputs": [],
   "source": [
    "library(Matrix)"
   ]
  },
  {
   "cell_type": "code",
   "execution_count": null,
   "metadata": {
    "vscode": {
     "languageId": "r"
    }
   },
   "outputs": [],
   "source": [
    "generate_simulated_data <- function(data_size = \"small\", feature_ratio = \"low\", sparsity_level = \"low\", seed = 9248) {\n",
    "  set.seed(seed)\n",
    "  \n",
    "  # Define the ranges for feature size, data size, and sparsity\n",
    "  # feature_size_map <- list(\"low\" = 50, \"medium\" = 500, \"high\" = 1500)\n",
    "  data_size_map <- list(\"small\" = 500, \"medium\" = 5000, \"large\" = 50000, \"very_large\" = 200000)\n",
    "  feature_ratio_map <- list(\"low\" = 0.1, \"normal\" = 0.5, \"high\" = 1, \"high_dimensional\" = 2)\n",
    "  sparsity_map <- list(\"low\" = 0.3, \"medium\" = 0.65, \"high\" = 0.9)  # Sparsity as zero proportion\n",
    "  \n",
    "  # Validate inputs\n",
    "  # if (!(feature_size %in% names(feature_size_map))) {\n",
    "  #   stop(\"Invalid feature_size. Must be one of: low, medium, high.\")\n",
    "  # }\n",
    "  if (!(data_size %in% names(data_size_map))) {\n",
    "    stop(\"Invalid data_size. Must be one of: small, medium, large, very_large.\")\n",
    "  }\n",
    "  if (!(feature_ratio %in% names(feature_ratio_map))) {\n",
    "    stop(\"Invalid feature_ratio. Must be one of: low, normal, high, high_dimensional.\")\n",
    "  }\n",
    "  if (!(sparsity_level %in% names(sparsity_map))) {\n",
    "    stop(\"Invalid sparsity_level. Must be one of: low, medium, high.\")\n",
    "  }\n",
    "  \n",
    "  # Get the number of features and samples\n",
    "  # p <- feature_size_map[[feature_size]]\n",
    "  n <- data_size_map[[data_size]]\n",
    "  p <- n * feature_ratio_map[[feature_ratio]]\n",
    "  \n",
    "  # Sparsity level (proportion of zero elements in X)\n",
    "  sparsity <- sparsity_map[[sparsity_level]]\n",
    "  \n",
    "  # Generate the feature matrix (X) with the specified sparsity\n",
    "  X <- matrix(0, nrow = n, ncol = p)  # Initialize with zeros\n",
    "  num_non_zero <- round((1 - sparsity) * n * p)  # Total non-zero elements\n",
    "  non_zero_indices <- sample(1 : (n * p), size = num_non_zero, replace = FALSE)\n",
    "  X[non_zero_indices] <- rnorm(num_non_zero)  # Fill non-zero entries with random values\n",
    "  \n",
    "  # Generate the true sparse coefficients (beta)\n",
    "  beta <- rep(0, p)\n",
    "  num_non_zero_beta <- max(1, round(0.1 * p))  # Assume 10% of beta are non-zero\n",
    "  non_zero_beta_indices <- sample(1 : p, size = num_non_zero_beta, replace = FALSE)\n",
    "  beta[non_zero_beta_indices] <- runif(length(non_zero_beta_indices), min = -1, max = 1)\n",
    "  \n",
    "  # Generate the response vector (y) with some noise\n",
    "  y <- X %*% beta + rnorm(n)\n",
    "  \n",
    "  # Return the generated data\n",
    "  return(list(X = X, y = y, beta = beta))\n",
    "}"
   ]
  },
  {
   "cell_type": "code",
   "execution_count": null,
   "metadata": {
    "vscode": {
     "languageId": "r"
    }
   },
   "outputs": [],
   "source": [
    "# small data_size\n",
    "data_sll <- generate_simulated_data(data_size = \"small\", feature_ratio = \"low\", sparsity_level = \"low\")\n",
    "data_slm <- generate_simulated_data(data_size = \"small\", feature_ratio = \"low\", sparsity_level = \"medium\")\n",
    "data_slh <- generate_simulated_data(data_size = \"small\", feature_ratio = \"low\", sparsity_level = \"high\")\n",
    "\n",
    "data_snl <- generate_simulated_data(data_size = \"small\", feature_ratio = \"normal\", sparsity_level = \"low\")\n",
    "data_snm <- generate_simulated_data(data_size = \"small\", feature_ratio = \"normal\", sparsity_level = \"medium\")\n",
    "data_snh <- generate_simulated_data(data_size = \"small\", feature_ratio = \"normal\", sparsity_level = \"high\")\n",
    "\n",
    "data_shl <- generate_simulated_data(data_size = \"small\", feature_ratio = \"high\", sparsity_level = \"low\")\n",
    "data_shm <- generate_simulated_data(data_size = \"small\", feature_ratio = \"high\", sparsity_level = \"medium\")\n",
    "data_shh <- generate_simulated_data(data_size = \"small\", feature_ratio = \"high\", sparsity_level = \"high\")\n",
    "\n",
    "# data_shdl <- generate_simulated_data(data_size = \"small\", feature_ratio = \"high_dimensional\", sparsity_level = \"low\")\n",
    "# data_shdm <- generate_simulated_data(data_size = \"small\", feature_ratio = \"high_dimensional\", sparsity_level = \"medium\")\n",
    "# data_shdh <- generate_simulated_data(data_size = \"small\", feature_ratio = \"high_dimensional\", sparsity_level = \"high\")"
   ]
  },
  {
   "cell_type": "code",
   "execution_count": null,
   "metadata": {
    "vscode": {
     "languageId": "r"
    }
   },
   "outputs": [],
   "source": [
    "# medium data_size\n",
    "data_mll <- generate_simulated_data(data_size = \"medium\", feature_ratio = \"low\", sparsity_level = \"low\")\n",
    "data_mlm <- generate_simulated_data(data_size = \"medium\", feature_ratio = \"low\", sparsity_level = \"medium\")\n",
    "data_mlh <- generate_simulated_data(data_size = \"medium\", feature_ratio = \"low\", sparsity_level = \"high\")\n",
    "\n",
    "data_mnl <- generate_simulated_data(data_size = \"medium\", feature_ratio = \"normal\", sparsity_level = \"low\")\n",
    "data_mnm <- generate_simulated_data(data_size = \"medium\", feature_ratio = \"normal\", sparsity_level = \"medium\")\n",
    "data_mnh <- generate_simulated_data(data_size = \"medium\", feature_ratio = \"normal\", sparsity_level = \"high\")\n",
    "\n",
    "data_mhl <- generate_simulated_data(data_size = \"medium\", feature_ratio = \"high\", sparsity_level = \"low\")\n",
    "data_mhm <- generate_simulated_data(data_size = \"medium\", feature_ratio = \"high\", sparsity_level = \"medium\")\n",
    "data_mhh <- generate_simulated_data(data_size = \"medium\", feature_ratio = \"high\", sparsity_level = \"high\")\n",
    "\n",
    "# data_mhdl <- generate_simulated_data(data_size = \"medium\", feature_ratio = \"high_dimensional\", sparsity_level = \"low\")\n",
    "# data_mhdm <- generate_simulated_data(data_size = \"medium\", feature_ratio = \"high_dimensional\", sparsity_level = \"medium\")\n",
    "# data_mhdh <- generate_simulated_data(data_size = \"medium\", feature_ratio = \"high_dimensional\", sparsity_level = \"high\")"
   ]
  },
  {
   "cell_type": "code",
   "execution_count": null,
   "metadata": {
    "vscode": {
     "languageId": "r"
    }
   },
   "outputs": [],
   "source": [
    "# large data_size\n",
    "data_lll <- generate_simulated_data(data_size = \"large\", feature_ratio = \"low\", sparsity_level = \"low\")\n",
    "data_llm <- generate_simulated_data(data_size = \"large\", feature_ratio = \"low\", sparsity_level = \"medium\")\n",
    "data_llh <- generate_simulated_data(data_size = \"large\", feature_ratio = \"low\", sparsity_level = \"high\")\n",
    "\n",
    "data_lnl <- generate_simulated_data(data_size = \"large\", feature_ratio = \"normal\", sparsity_level = \"low\")\n",
    "data_lnm <- generate_simulated_data(data_size = \"large\", feature_ratio = \"normal\", sparsity_level = \"medium\")\n",
    "data_lnh <- generate_simulated_data(data_size = \"large\", feature_ratio = \"normal\", sparsity_level = \"high\")\n",
    "\n",
    "data_lhl <- generate_simulated_data(data_size = \"large\", feature_ratio = \"high\", sparsity_level = \"low\")\n",
    "data_lhm <- generate_simulated_data(data_size = \"large\", feature_ratio = \"high\", sparsity_level = \"medium\")\n",
    "data_lhh <- generate_simulated_data(data_size = \"large\", feature_ratio = \"high\", sparsity_level = \"high\")\n",
    "\n",
    "# data_lhdl <- generate_simulated_data(data_size = \"large\", feature_ratio = \"high_dimensional\", sparsity_level = \"low\")\n",
    "# data_lhdm <- generate_simulated_data(data_size = \"large\", feature_ratio = \"high_dimensional\", sparsity_level = \"medium\")\n",
    "# data_lhdh <- generate_simulated_data(data_size = \"large\", feature_ratio = \"high_dimensional\", sparsity_level = \"high\")\n"
   ]
  },
  {
   "cell_type": "code",
   "execution_count": null,
   "metadata": {
    "vscode": {
     "languageId": "r"
    }
   },
   "outputs": [],
   "source": [
    "# very_large data_size\n",
    "data_vlll <- generate_simulated_data(data_size = \"very_large\", feature_ratio = \"low\", sparsity_level = \"low\")\n",
    "data_vllm <- generate_simulated_data(data_size = \"very_large\", feature_ratio = \"low\", sparsity_level = \"medium\")\n",
    "data_vllh <- generate_simulated_data(data_size = \"very_large\", feature_ratio = \"low\", sparsity_level = \"high\")\n",
    "\n",
    "data_vlnl <- generate_simulated_data(data_size = \"very_large\", feature_ratio = \"normal\", sparsity_level = \"low\")\n",
    "data_vlnm <- generate_simulated_data(data_size = \"very_large\", feature_ratio = \"normal\", sparsity_level = \"medium\")\n",
    "data_vlnh <- generate_simulated_data(data_size = \"very_large\", feature_ratio = \"normal\", sparsity_level = \"high\")\n",
    "\n",
    "data_vlhl <- generate_simulated_data(data_size = \"very_large\", feature_ratio = \"high\", sparsity_level = \"low\")\n",
    "data_vlhm <- generate_simulated_data(data_size = \"very_large\", feature_ratio = \"high\", sparsity_level = \"medium\")\n",
    "data_vlhh <- generate_simulated_data(data_size = \"very_large\", feature_ratio = \"high\", sparsity_level = \"high\")\n",
    "\n",
    "# data_vlhdl <- generate_simulated_data(data_size = \"very_large\", feature_ratio = \"high_dimensional\", sparsity_level = \"low\")\n",
    "# data_vlhdm <- generate_simulated_data(data_size = \"very_large\", feature_ratio = \"high_dimensional\", sparsity_level = \"medium\")\n",
    "# data_vlhdh <- generate_simulated_data(data_size = \"very_large\", feature_ratio = \"high_dimensional\", sparsity_level = \"high\")\n"
   ]
  },
  {
   "cell_type": "code",
   "execution_count": null,
   "metadata": {
    "vscode": {
     "languageId": "r"
    }
   },
   "outputs": [],
   "source": [
    "library(glmnet)"
   ]
  },
  {
   "cell_type": "code",
   "execution_count": null,
   "metadata": {
    "vscode": {
     "languageId": "r"
    }
   },
   "outputs": [],
   "source": [
    "compare_lasso_methods <- function(X, y, lambda) {\n",
    "  methods <- c(\"CGDA\", \"ISTA\", \"FISTA\", \"LARS\", \"PFA\", \"SLA\")\n",
    "  results <- list()\n",
    "\n",
    "  for (method in methods) {\n",
    "    cat(\"\\nRunning lasso with method:\", method, \"\\n\")\n",
    "\n",
    "    # Measure system time for robust_lasso\n",
    "    robust_time <- system.time(\n",
    "      robust_result <- robust_lasso(X, y, lambda, method = method)\n",
    "    )\n",
    "    # print(robust_result$method, robust_result$fit$iter, robust_result$fit$convergence)\n",
    "    print(robust_result$method)\n",
    "    print(robust_result$fit$iter)\n",
    "    print(robust_result$fit$convergence)\n",
    "\n",
    "    # Extract predictions and residuals from robust_lasso\n",
    "    robust_beta <- robust_result$fit$beta\n",
    "    y_pred_robust <- cbind(1, X) %*% robust_beta  # Include intercept\n",
    "    residuals_robust <- y - y_pred_robust\n",
    "\n",
    "    # Calculate metrics for robust_lasso\n",
    "    mse_robust <- mean(residuals_robust^2)\n",
    "    r2_robust <- 1 - sum(residuals_robust^2) / sum((y - mean(y))^2)\n",
    "\n",
    "    # Store results for robust_lasso\n",
    "    results[[method]] <- list(\n",
    "      time = robust_time[\"elapsed\"],\n",
    "      mse = mse_robust,\n",
    "      r2 = r2_robust\n",
    "    )\n",
    "\n",
    "    # Plot residuals for robust_lasso\n",
    "    plot(y_pred_robust, residuals_robust,\n",
    "         main = paste(\"Residual Plot for robust_lasso (\", method, \")\"),\n",
    "         xlab = \"Predicted Values\", ylab = \"Residuals\",\n",
    "         col = \"blue\", pch = 20)\n",
    "    abline(h = 0, col = \"red\", lty = 2)\n",
    "  }\n",
    "\n",
    "  # Run glmnet\n",
    "  cat(\"\\nRunning glmnet\\n\")\n",
    "  glmnet_time <- system.time(\n",
    "    glmnet_result <- glmnet(X, y, alpha = 1, lambda = lambda, intercept = TRUE)\n",
    "  )\n",
    "\n",
    "  # Extract predictions and residuals from glmnet\n",
    "  glmnet_beta <- as.vector(coef(glmnet_result, s = lambda))\n",
    "  y_pred_glmnet <- cbind(1, X) %*% glmnet_beta  # Include intercept\n",
    "  residuals_glmnet <- y - y_pred_glmnet\n",
    "\n",
    "  # Calculate metrics for glmnet\n",
    "  mse_glmnet <- mean(residuals_glmnet^2)\n",
    "  r2_glmnet <- 1 - sum(residuals_glmnet^2) / sum((y - mean(y))^2)\n",
    "\n",
    "  # Store results for glmnet\n",
    "  results[[\"glmnet\"]] <- list(\n",
    "    time = glmnet_time[\"elapsed\"],\n",
    "    mse = mse_glmnet,\n",
    "    r2 = r2_glmnet\n",
    "  )\n",
    "\n",
    "  # Plot residuals for glmnet\n",
    "  plot(y_pred_glmnet, residuals_glmnet,\n",
    "       main = \"Residual Plot for glmnet\",\n",
    "       xlab = \"Predicted Values\", ylab = \"Residuals\",\n",
    "       col = \"green\", pch = 20)\n",
    "  abline(h = 0, col = \"red\", lty = 2)\n",
    "\n",
    "  # Print and return results\n",
    "  print(results)\n",
    "  return(results)\n",
    "}"
   ]
  },
  {
   "cell_type": "code",
   "execution_count": null,
   "metadata": {
    "vscode": {
     "languageId": "r"
    }
   },
   "outputs": [],
   "source": [
    "lasso_sll <- compare_lasso_methods(data_sll$X, data_sll$y, lambda = 0.1)\n",
    "lasso_slm <- compare_lasso_methods(data_slm$X, data_slm$y, lambda = 0.1)\n",
    "lasso_slh <- compare_lasso_methods(data_slh$X, data_slh$y, lambda = 0.1)\n",
    "lasso_snl <- compare_lasso_methods(data_snl$X, data_snl$y, lambda = 0.1)\n",
    "lasso_snm <- compare_lasso_methods(data_snm$X, data_snm$y, lambda = 0.1)\n",
    "lasso_snh <- compare_lasso_methods(data_snh$X, data_snh$y, lambda = 0.1)\n",
    "lasso_shl <- compare_lasso_methods(data_shl$X, data_shl$y, lambda = 0.1)\n",
    "lasso_shm <- compare_lasso_methods(data_shm$X, data_shm$y, lambda = 0.1)\n",
    "lasso_shh <- compare_lasso_methods(data_shh$X, data_shh$y, lambda = 0.1)\n",
    "\n",
    "lasso_mll <- compare_lasso_methods(data_mll$X, data_mll$y, lambda = 0.1)\n",
    "lasso_mlm <- compare_lasso_methods(data_mlm$X, data_mlm$y, lambda = 0.1)\n",
    "lasso_mlh <- compare_lasso_methods(data_mlh$X, data_mlh$y, lambda = 0.1)\n",
    "lasso_mnl <- compare_lasso_methods(data_mnl$X, data_mnl$y, lambda = 0.1)\n",
    "lasso_mnm <- compare_lasso_methods(data_mnm$X, data_mnm$y, lambda = 0.1)\n",
    "lasso_mnh <- compare_lasso_methods(data_mnh$X, data_mnh$y, lambda = 0.1)\n",
    "lasso_mhl <- compare_lasso_methods(data_mhl$X, data_mhl$y, lambda = 0.1)\n",
    "lasso_mhm <- compare_lasso_methods(data_mhm$X, data_mhm$y, lambda = 0.1)\n",
    "lasso_mhh <- compare_lasso_methods(data_mhh$X, data_mhh$y, lambda = 0.1)"
   ]
  }
 ],
 "metadata": {
  "kernelspec": {
   "display_name": "R",
   "language": "R",
   "name": "ir"
  },
  "language_info": {
   "name": "R"
  }
 },
 "nbformat": 4,
 "nbformat_minor": 2
}
