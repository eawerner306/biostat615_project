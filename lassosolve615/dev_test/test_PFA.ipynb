{
 "cells": [
  {
   "cell_type": "code",
   "execution_count": 1,
   "metadata": {
    "vscode": {
     "languageId": "r"
    }
   },
   "outputs": [
    {
     "name": "stdout",
     "output_type": "stream",
     "text": [
      "$beta\n",
      " [1]  0.13991577  0.96632667 -0.91634044 -0.06767107  0.06986642  0.00000000\n",
      " [7]  0.00000000  0.00000000  0.03783015  0.00000000  0.06544414\n",
      "\n",
      "$iter\n",
      "[1] 8\n",
      "\n",
      "$convergence\n",
      "[1] TRUE\n",
      "\n"
     ]
    }
   ],
   "source": [
    "PFA_lassosolve <- function(X, y, lambda, max_iter = 1000, tol = 1e-6) {\n",
    "  # Ensure the data dimensions are valid\n",
    "  n <- nrow(X)\n",
    "  p <- ncol(X)\n",
    "  \n",
    "  # Standardize X and y\n",
    "  X_means <- colMeans(X)\n",
    "  X_sds <- apply(X, 2, sd)\n",
    "  X_std <- scale(X, center = X_means, scale = X_sds)\n",
    "  y_mean <- mean(y)\n",
    "  y_centered <- y - y_mean\n",
    "  \n",
    "  # Add intercept column to X\n",
    "  X_aug <- cbind(1, X_std)  # Add a column of 1s for the intercept\n",
    "  p_aug <- ncol(X_aug)      # Update the number of features (including intercept)\n",
    "  \n",
    "  # Initialize coefficients\n",
    "  beta <- rep(0, p_aug)\n",
    "  \n",
    "  # Precompute X'X and X'y\n",
    "  XtX <- crossprod(X_aug) / n\n",
    "  Xty <- crossprod(X_aug, y_centered) / n\n",
    "  \n",
    "  # Path-following algorithm\n",
    "  for (iter in 1:max_iter) {\n",
    "    beta_prev <- beta\n",
    "    \n",
    "    for (j in 2:p_aug) {  # Skip intercept in regularization\n",
    "      # Compute the partial residual\n",
    "      r_j <- Xty[j] - sum(XtX[j, -j] * beta[-j])\n",
    "      \n",
    "      # Soft-threshold update\n",
    "      beta[j] <- sign(r_j) * max(0, abs(r_j) - lambda) / XtX[j, j]\n",
    "    }\n",
    "    \n",
    "    # Update intercept (not regularized)\n",
    "    beta[1] <- Xty[1] - sum(XtX[1, -1] * beta[-1])\n",
    "    \n",
    "    # Check for convergence\n",
    "    if (sqrt(sum((beta - beta_prev)^2)) < tol) {\n",
    "      # Rescale beta back to original scale\n",
    "      beta_rescaled <- beta\n",
    "      beta_rescaled[-1] <- beta_rescaled[-1] / X_sds  # Adjust for standardization\n",
    "      beta_rescaled[1] <- beta[1] + y_mean - sum((X_means / X_sds) * beta[-1])  # Adjust intercept\n",
    "      \n",
    "      return(list(beta = beta_rescaled, iter = iter, convergence = TRUE))\n",
    "    }\n",
    "  }\n",
    "  \n",
    "  # If max_iter is reached without convergence\n",
    "  beta_rescaled <- beta\n",
    "  beta_rescaled[-1] <- beta_rescaled[-1] / X_sds\n",
    "  beta_rescaled[1] <- beta[1] + y_mean - sum((X_means / X_sds) * beta[-1])\n",
    "  \n",
    "  return(list(beta = beta_rescaled, iter = max_iter, convergence = FALSE))\n",
    "}\n",
    "\n",
    "# Example usage\n",
    "set.seed(123)\n",
    "n <- 100\n",
    "p <- 10\n",
    "X <- matrix(rnorm(n * p), n, p)\n",
    "beta_true <- c(1, -1, rep(0, p - 2))\n",
    "y <- X %*% beta_true + rnorm(n)\n",
    "lambda <- 0.1\n",
    "\n",
    "result <- PFA_lassosolve(X, y, lambda)\n",
    "print(result)"
   ]
  },
  {
   "cell_type": "code",
   "execution_count": 2,
   "metadata": {
    "vscode": {
     "languageId": "r"
    }
   },
   "outputs": [
    {
     "name": "stdout",
     "output_type": "stream",
     "text": [
      "$beta\n",
      " [1]  0.13991577  0.96632667 -0.91634044 -0.06767107  0.06986642  0.00000000\n",
      " [7]  0.00000000  0.00000000  0.03783015  0.00000000  0.06544414\n",
      "\n",
      "$iter\n",
      "[1] 8\n",
      "\n",
      "$convergence\n",
      "[1] TRUE\n",
      "\n"
     ]
    }
   ],
   "source": [
    "# Example usage\n",
    "set.seed(123)\n",
    "n <- 100\n",
    "p <- 10\n",
    "X <- matrix(rnorm(n * p), n, p)\n",
    "beta_true <- c(1, -1, rep(0, p - 2))\n",
    "y <- X %*% beta_true + rnorm(n)\n",
    "lambda <- 0.1\n",
    "\n",
    "result <- PFA_lassosolve(X, y, lambda)\n",
    "print(result)"
   ]
  }
 ],
 "metadata": {
  "kernelspec": {
   "display_name": "R",
   "language": "R",
   "name": "ir"
  },
  "language_info": {
   "codemirror_mode": "r",
   "file_extension": ".r",
   "mimetype": "text/x-r-source",
   "name": "R",
   "pygments_lexer": "r",
   "version": "4.4.2"
  }
 },
 "nbformat": 4,
 "nbformat_minor": 2
}
