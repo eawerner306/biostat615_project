{
 "cells": [
  {
   "cell_type": "code",
   "execution_count": 2,
   "metadata": {
    "vscode": {
     "languageId": "r"
    }
   },
   "outputs": [],
   "source": [
    "SLA_lassosolve <- function(X, y, lambda, alpha = 10, max_iter = 1000, tol = 1e-6) {\n",
    "  \n",
    "  # Add intercept column to X\n",
    "  X <- cbind(1, X)  # 添加一列全 1 的常数列表示截距\n",
    "  \n",
    "  # Dimensions\n",
    "  n <- nrow(X)\n",
    "  p <- ncol(X)\n",
    "\n",
    "  # Precompute constants\n",
    "  XtX <- crossprod(X) / n  # X'X / n\n",
    "  Xty <- crossprod(X, y) / n  # X'y / n\n",
    "  sigma_max_sq <- max(eigen(XtX, symmetric = TRUE, only.values = TRUE)$values)\n",
    "  mu <- 1 / (sigma_max_sq + lambda * alpha / 2)\n",
    "\n",
    "  # Surrogate function gradient adjustment\n",
    "  surrogate_gradient <- function(beta) {\n",
    "    # Ensure no division by zero\n",
    "    beta[beta == 0] <- 1e-10\n",
    "    exp_alpha_beta <- exp(alpha * beta)\n",
    "    exp_neg_alpha_beta <- exp(-alpha * beta)\n",
    "    term1 <- -2 * log(1 + exp_neg_alpha_beta) / beta^2\n",
    "    term2 <- (2 * alpha * exp_alpha_beta) / (beta * (1 + exp_alpha_beta)) - 1\n",
    "    v <- term1 + term2\n",
    "    v[!is.finite(v)] <- 0  # Replace any non-finite values with 0\n",
    "    return(v)\n",
    "  }\n",
    "\n",
    "  # Initialization\n",
    "  beta <- rep(0, p)  # β^(0)\n",
    "  beta_prev <- rep(0, p)  # β^(−1)\n",
    "\n",
    "  # SLA Iterations\n",
    "  for (iter in 1:max_iter) {\n",
    "    # Extrapolated step\n",
    "    w <- beta + (iter - 2) / (iter + 1) * (beta - beta_prev)\n",
    "\n",
    "    # Gradient calculation\n",
    "    gradient <- XtX %*% w - Xty + surrogate_gradient(w)\n",
    "\n",
    "    # Update step\n",
    "    beta_new <- w - mu * gradient\n",
    "\n",
    "    # Check convergence (ensure finite values)\n",
    "    if (all(is.finite(beta_new)) && sqrt(sum((beta_new - beta)^2)) < tol) {\n",
    "      return(list(beta = beta_new, iter = iter, convergence = TRUE))\n",
    "    }\n",
    "\n",
    "    # Update variables for next iteration\n",
    "    beta_prev <- beta\n",
    "    beta <- beta_new\n",
    "  }\n",
    "\n",
    "  # Return results\n",
    "  return(list(beta = beta, iter = max_iter, convergence = FALSE))\n",
    "}"
   ]
  },
  {
   "cell_type": "code",
   "execution_count": 4,
   "metadata": {
    "vscode": {
     "languageId": "r"
    }
   },
   "outputs": [
    {
     "name": "stdout",
     "output_type": "stream",
     "text": [
      "$beta\n",
      "            [,1]\n",
      " [1,] -636.74601\n",
      " [2,]   12.32097\n",
      " [3,] -365.17191\n",
      " [4,]   74.89773\n",
      " [5,]  -12.37574\n",
      " [6,]  -81.63466\n",
      " [7,]  154.47143\n",
      " [8,] -241.37811\n",
      " [9,]   59.68622\n",
      "[10,]   67.16549\n",
      "[11,]  -59.45344\n",
      "\n",
      "$iter\n",
      "[1] 1000\n",
      "\n",
      "$convergence\n",
      "[1] FALSE\n",
      "\n"
     ]
    }
   ],
   "source": [
    "set.seed(123)\n",
    "\n",
    "# Example data\n",
    "n <- 100\n",
    "p <- 10\n",
    "X <- matrix(rnorm(n * p), n, p)\n",
    "beta_true <- c(5, 1, -1, rep(0, p - 2))\n",
    "y <- X %*% beta_true[-1] + beta_true[1] + rnorm(n)\n",
    "\n",
    "# Solve using SLA\n",
    "lambda <- 0.1\n",
    "result <- SLA_lassosolve(X, y, lambda)\n",
    "\n",
    "# Display results\n",
    "# cat(\"Estimated beta (without intercept):\\n\")\n",
    "# print(result$beta)\n",
    "# cat(\"Intercept:\", result$intercept, \"\\n\")\n",
    "# cat(\"Number of iterations:\", result$iter, \"\\n\")\n",
    "# cat(\"Convergence:\", result$convergence, \"\\n\")\n",
    "\n",
    "print(result)"
   ]
  }
 ],
 "metadata": {
  "kernelspec": {
   "display_name": "R",
   "language": "R",
   "name": "ir"
  },
  "language_info": {
   "codemirror_mode": "r",
   "file_extension": ".r",
   "mimetype": "text/x-r-source",
   "name": "R",
   "pygments_lexer": "r",
   "version": "4.4.2"
  }
 },
 "nbformat": 4,
 "nbformat_minor": 2
}
