{
 "cells": [
  {
   "cell_type": "code",
   "execution_count": 1,
   "metadata": {
    "vscode": {
     "languageId": "r"
    }
   },
   "outputs": [],
   "source": [
    "ISTA_lassosolve <- function(X, y, lambda, max_iter = 1000, tol = 1e-6) {\n",
    "\n",
    "  n <- nrow(X)\n",
    "  p <- ncol(X)\n",
    "\n",
    "  # Add intercept column to X (if not already added)\n",
    "  X <- cbind(1, X)  # 添加一列全 1 的常数列作为截距项\n",
    "  p <- ncol(X)      # 更新特征数量\n",
    "\n",
    "  # Precompute X'X and X'y\n",
    "  XtX <- crossprod(X)\n",
    "  Xty <- crossprod(X, y)\n",
    "\n",
    "  # Lipschitz constant (L = max eigenvalue of XtX / n)\n",
    "  L <- max(eigen(XtX / n)$values)\n",
    "\n",
    "  # Initialize beta\n",
    "  beta <- rep(0, p)\n",
    "\n",
    "  # Soft-thresholding function\n",
    "  soft_threshold <- function(z, gamma) {\n",
    "    sign(z) * pmax(0, abs(z) - gamma)\n",
    "  }\n",
    "\n",
    "  # ISTA Iterations\n",
    "  for (iter in 1:max_iter) {\n",
    "    # Gradient\n",
    "    gradient <- (XtX %*% beta - Xty) / n\n",
    "    beta_new <- soft_threshold(beta - (1 / L) * gradient, lambda / L)\n",
    "\n",
    "    # Check convergence\n",
    "    if (sqrt(sum((beta_new - beta)^2)) < tol) {\n",
    "      return(list(beta = beta_new, iter = iter, convergence = TRUE))\n",
    "    }\n",
    "\n",
    "    # Update beta\n",
    "    beta <- beta_new\n",
    "  }\n",
    "\n",
    "  return(list(beta = beta, iter = max_iter, convergence = FALSE))\n",
    "}\n"
   ]
  },
  {
   "cell_type": "code",
   "execution_count": 2,
   "metadata": {
    "vscode": {
     "languageId": "r"
    }
   },
   "outputs": [
    {
     "name": "stdout",
     "output_type": "stream",
     "text": [
      "Fitted coefficients (with intercept):\n",
      "             [,1]\n",
      " [1,]  5.03502791\n",
      " [2,]  0.96634395\n",
      " [3,] -0.92456525\n",
      " [4,] -0.04669122\n",
      " [5,]  0.06919676\n",
      " [6,]  0.00000000\n",
      " [7,]  0.00000000\n",
      " [8,]  0.00000000\n",
      " [9,]  0.05143839\n",
      "[10,]  0.00000000\n",
      "[11,]  0.06496408\n",
      "Number of iterations: 23 \n",
      "Convergence: TRUE \n"
     ]
    }
   ],
   "source": [
    "set.seed(123)\n",
    "\n",
    "# 模拟数据\n",
    "n <- 100  # 样本数\n",
    "p <- 10   # 特征数\n",
    "X <- matrix(rnorm(n * p), n, p)           # 特征矩阵\n",
    "beta_true <- c(5, 1, -1, rep(0, p - 2))  # 包括截距项（5）和稀疏系数\n",
    "y <- X %*% beta_true[-1] + beta_true[1] + rnorm(n)  # 生成响应变量\n",
    "\n",
    "# 正则化参数\n",
    "lambda <- 0.1\n",
    "\n",
    "# 调用 ISTA_lassosolve\n",
    "result <- ISTA_lassosolve(X, y, lambda)\n",
    "\n",
    "# 查看结果\n",
    "cat(\"Fitted coefficients (with intercept):\\n\")\n",
    "print(result$beta)  # 包括截距项的系数\n",
    "cat(\"Number of iterations:\", result$iter, \"\\n\")\n",
    "cat(\"Convergence:\", result$convergence, \"\\n\")\n"
   ]
  }
 ],
 "metadata": {
  "kernelspec": {
   "display_name": "R",
   "language": "R",
   "name": "ir"
  },
  "language_info": {
   "codemirror_mode": "r",
   "file_extension": ".r",
   "mimetype": "text/x-r-source",
   "name": "R",
   "pygments_lexer": "r",
   "version": "4.4.2"
  }
 },
 "nbformat": 4,
 "nbformat_minor": 2
}
