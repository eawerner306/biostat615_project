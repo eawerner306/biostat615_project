{
 "cells": [
  {
   "cell_type": "code",
   "execution_count": 1,
   "metadata": {
    "vscode": {
     "languageId": "r"
    }
   },
   "outputs": [],
   "source": [
    "CGDA_lassosolve <- function(X, y, lambda, max_iter = 1000, tol = 1e-6) {\n",
    "\n",
    "  # Add intercept column to X\n",
    "  X <- cbind(1, X)  # 添加一列全 1 表示截距\n",
    "  n <- nrow(X)\n",
    "  p <- ncol(X)\n",
    "\n",
    "  # Precompute X'X and X'y\n",
    "  XtX <- crossprod(X)\n",
    "  Xty <- crossprod(X, y)\n",
    "\n",
    "  # Initialize beta\n",
    "  beta <- rep(0, p)  # β^(0)\n",
    "\n",
    "  # Soft-thresholding function\n",
    "  soft_threshold <- function(z, gamma) {\n",
    "    sign(z) * pmax(0, abs(z) - gamma)\n",
    "  }\n",
    "\n",
    "  # CGDA Iterations\n",
    "  for (iter in 1:max_iter) {\n",
    "    beta_prev <- beta\n",
    "\n",
    "    # Coordinate-wise updates\n",
    "    for (j in 1:p) {\n",
    "      # Compute the partial residual\n",
    "      r_j <- Xty[j] - sum(XtX[j, -j] * beta[-j])\n",
    "\n",
    "      # Update β_j^(k+1)\n",
    "      beta[j] <- soft_threshold(r_j / n, lambda) / (XtX[j, j] / n)\n",
    "    }\n",
    "\n",
    "    # Check convergence\n",
    "    if (sqrt(sum((beta - beta_prev)^2)) < tol) {\n",
    "      return(list(beta = beta, iter = iter, convergence = TRUE))\n",
    "    }\n",
    "  }\n",
    "\n",
    "  # Return results\n",
    "  return(list(beta = beta, iter = max_iter, convergence = FALSE))\n",
    "}\n"
   ]
  },
  {
   "cell_type": "code",
   "execution_count": 3,
   "metadata": {
    "vscode": {
     "languageId": "r"
    }
   },
   "outputs": [
    {
     "name": "stdout",
     "output_type": "stream",
     "text": [
      "$beta\n",
      " [1]  5.03502811  0.96634422 -0.92456535 -0.04669144  0.06919722  0.00000000\n",
      " [7]  0.00000000  0.00000000  0.05143790  0.00000000  0.06496376\n",
      "\n",
      "$iter\n",
      "[1] 8\n",
      "\n",
      "$convergence\n",
      "[1] TRUE\n",
      "\n"
     ]
    }
   ],
   "source": [
    "set.seed(123)\n",
    "\n",
    "# Example data\n",
    "n <- 100\n",
    "p <- 10\n",
    "X <- matrix(rnorm(n * p), n, p)           # 设计矩阵\n",
    "beta_true <- c(5, 1, -1, rep(0, p - 2))  # 包括截距项\n",
    "y <- X %*% beta_true[-1] + beta_true[1] + rnorm(n)  # 响应变量\n",
    "\n",
    "# Regularization parameter\n",
    "lambda <- 0.1\n",
    "\n",
    "# Solve using CGDA with intercept column\n",
    "result <- CGDA_lassosolve(X, y, lambda)\n",
    "\n",
    "print(result)\n",
    "\n",
    "# Print results\n",
    "# cat(\"Estimated beta (including intercept):\\n\")\n",
    "# print(result$beta)\n",
    "# cat(\"Number of iterations:\", result$iter, \"\\n\")\n",
    "# cat(\"Convergence:\", result$convergence, \"\\n\")\n"
   ]
  }
 ],
 "metadata": {
  "kernelspec": {
   "display_name": "R",
   "language": "R",
   "name": "ir"
  },
  "language_info": {
   "codemirror_mode": "r",
   "file_extension": ".r",
   "mimetype": "text/x-r-source",
   "name": "R",
   "pygments_lexer": "r",
   "version": "4.4.2"
  }
 },
 "nbformat": 4,
 "nbformat_minor": 2
}
