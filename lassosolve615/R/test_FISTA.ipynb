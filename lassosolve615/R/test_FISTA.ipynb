{
 "cells": [
  {
   "cell_type": "code",
   "execution_count": 1,
   "metadata": {
    "vscode": {
     "languageId": "r"
    }
   },
   "outputs": [],
   "source": [
    "FISTA_lassosolve <- function(X, y, lambda, max_iter = 1000, tol = 1e-6) {\n",
    "  n <- nrow(X)\n",
    "  p <- ncol(X)\n",
    "\n",
    "  # Add intercept column to X (if not already added)\n",
    "  X <- cbind(1, X)  # 添加一列全 1 的常数列，作为截距\n",
    "  p <- ncol(X)      # 更新特征数量\n",
    "\n",
    "  # Precompute X'X and X'y\n",
    "  XtX <- crossprod(X)\n",
    "  Xty <- crossprod(X, y)\n",
    "\n",
    "  # Lipschitz constant (L = max eigenvalue of XtX / n)\n",
    "  L <- max(eigen(XtX / n)$values)\n",
    "\n",
    "  # Initialize beta and auxiliary variables\n",
    "  beta <- rep(0, p)            # β^(0)\n",
    "  beta_prev <- beta            # β^(k-1), starts equal to β^(0)\n",
    "  t <- 1                       # t_1\n",
    "  alpha <- beta                # α^(1), initialized to β^(0)\n",
    "\n",
    "  # Soft-thresholding function\n",
    "  soft_threshold <- function(z, gamma) {\n",
    "    sign(z) * pmax(0, abs(z) - gamma)\n",
    "  }\n",
    "\n",
    "  # FISTA Iterations\n",
    "  for (iter in 1:max_iter) {\n",
    "    # Gradient step with momentum\n",
    "    gradient <- (XtX %*% alpha - Xty) / n\n",
    "    beta_new <- soft_threshold(alpha - (1 / L) * gradient, lambda / L)\n",
    "\n",
    "    # Check convergence\n",
    "    if (sqrt(sum((beta_new - beta)^2)) < tol) {\n",
    "      return(list(beta = beta_new, iter = iter, convergence = TRUE))\n",
    "    }\n",
    "\n",
    "    # Momentum update\n",
    "    t_new <- (1 + sqrt(1 + 4 * t^2)) / 2\n",
    "    alpha <- beta_new + ((t - 1) / t_new) * (beta_new - beta)\n",
    "\n",
    "    # Update variables for the next iteration\n",
    "    beta <- beta_new\n",
    "    t <- t_new\n",
    "  }\n",
    "\n",
    "  # Return results\n",
    "  return(list(beta = beta, iter = max_iter, convergence = FALSE))\n",
    "}"
   ]
  },
  {
   "cell_type": "code",
   "execution_count": 3,
   "metadata": {
    "vscode": {
     "languageId": "r"
    }
   },
   "outputs": [
    {
     "name": "stdout",
     "output_type": "stream",
     "text": [
      "$beta\n",
      "             [,1]\n",
      " [1,]  5.03502883\n",
      " [2,]  0.96634360\n",
      " [3,] -0.92456520\n",
      " [4,] -0.04669228\n",
      " [5,]  0.06919726\n",
      " [6,]  0.00000000\n",
      " [7,]  0.00000000\n",
      " [8,]  0.00000000\n",
      " [9,]  0.05143768\n",
      "[10,]  0.00000000\n",
      "[11,]  0.06496374\n",
      "\n",
      "$iter\n",
      "[1] 31\n",
      "\n",
      "$convergence\n",
      "[1] TRUE\n",
      "\n"
     ]
    }
   ],
   "source": [
    "set.seed(123)\n",
    "\n",
    "# 模拟数据\n",
    "n <- 100  # 样本数\n",
    "p <- 10   # 特征数\n",
    "X <- matrix(rnorm(n * p), n, p)           # 特征矩阵\n",
    "beta_true <- c(5, 1, -1, rep(0, p - 2))  # 包括截距项（5）和稀疏系数\n",
    "y <- X %*% beta_true[-1] + beta_true[1] + rnorm(n)  # 生成响应变量\n",
    "\n",
    "# 正则化参数\n",
    "lambda <- 0.1\n",
    "\n",
    "# 调用 FISTA_lassosolve\n",
    "result <- FISTA_lassosolve(X, y, lambda)\n",
    "\n",
    "# 查看结果\n",
    "# cat(\"Fitted coefficients (with intercept):\\n\")\n",
    "# print(result$beta)  # 包括截距项的系数\n",
    "# cat(\"Number of iterations:\", result$iter, \"\\n\")\n",
    "# cat(\"Convergence:\", result$convergence, \"\\n\")\n",
    "\n",
    "print(result)"
   ]
  }
 ],
 "metadata": {
  "kernelspec": {
   "display_name": "R",
   "language": "R",
   "name": "ir"
  },
  "language_info": {
   "codemirror_mode": "r",
   "file_extension": ".r",
   "mimetype": "text/x-r-source",
   "name": "R",
   "pygments_lexer": "r",
   "version": "4.4.2"
  }
 },
 "nbformat": 4,
 "nbformat_minor": 2
}
