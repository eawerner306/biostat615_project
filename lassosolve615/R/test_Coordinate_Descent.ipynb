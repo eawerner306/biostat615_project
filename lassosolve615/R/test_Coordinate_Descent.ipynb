{
 "cells": [
  {
   "cell_type": "code",
   "execution_count": 10,
   "metadata": {
    "vscode": {
     "languageId": "r"
    }
   },
   "outputs": [],
   "source": [
    "Coordinate_Descent_lassosolve <- function(X, y, lambda, max_iter = 1000, tol = 1e-6) {\n",
    "  # Ensure required package is available\n",
    "  if (!requireNamespace(\"glmnet\", quietly = TRUE)) {\n",
    "    stop(\"The 'glmnet' package is required but not installed.\")\n",
    "  }\n",
    "  \n",
    "  # Fit the model using glmnet\n",
    "  fit <- glmnet::glmnet(\n",
    "    X, y, alpha = 1, lambda = lambda,\n",
    "    intercept = TRUE, maxit = max_iter, thresh = tol\n",
    "  )\n",
    "  \n",
    "  # Extract results\n",
    "  intercept <- fit$a0[1]                        # Intercept term\n",
    "  beta <- as.vector(fit$beta[, 1])              # Coefficients without intercept\n",
    "  full_beta <- c(intercept, beta)               # Combine intercept and coefficients\n",
    "  names(full_beta) <- NULL                      # Remove names (e.g., \"s0\")\n",
    "  iterations <- fit$npasses                     # Number of passes (iterations)\n",
    "  \n",
    "  # Convergence check\n",
    "  has_converged <- iterations < max_iter\n",
    "  \n",
    "  # Return result\n",
    "  return( list(\n",
    "    beta = full_beta,\n",
    "    iter = iterations,\n",
    "    convergence = has_converged\n",
    "  ))\n",
    "  \n",
    "}\n"
   ]
  },
  {
   "cell_type": "code",
   "execution_count": 12,
   "metadata": {
    "vscode": {
     "languageId": "r"
    }
   },
   "outputs": [
    {
     "name": "stdout",
     "output_type": "stream",
     "text": [
      "Complete beta (including intercept):\n",
      " [1]  5.13986322  0.96676275 -0.91681098 -0.06807403  0.07024808  0.00000000\n",
      " [7]  0.00000000  0.00000000  0.03812746  0.00000000  0.06578744\n",
      "Number of iterations: 5 \n",
      "Convergence: TRUE \n"
     ]
    }
   ],
   "source": [
    "# Generate example data\n",
    "set.seed(123)\n",
    "n <- 100  # Number of samples\n",
    "p <- 10   # Number of features\n",
    "X <- matrix(rnorm(n * p), n, p)           # Feature matrix\n",
    "beta_true <- c(5, 1, -1, rep(0, p - 2))  # True beta with intercept\n",
    "y <- X %*% beta_true[-1] + beta_true[1] + rnorm(n)  # Response variable\n",
    "\n",
    "# Specify lambda\n",
    "lambda <- 0.1\n",
    "\n",
    "# Call the function\n",
    "result <- Coordinate_Descent_lassosolve(X, y, lambda)\n",
    "\n",
    "# Print results\n",
    "cat(\"Complete beta (including intercept):\\n\")\n",
    "print(result$beta)\n",
    "cat(\"Number of iterations:\", result$iter, \"\\n\")\n",
    "cat(\"Convergence:\", result$convergence, \"\\n\")\n"
   ]
  }
 ],
 "metadata": {
  "kernelspec": {
   "display_name": "R",
   "language": "R",
   "name": "ir"
  },
  "language_info": {
   "codemirror_mode": "r",
   "file_extension": ".r",
   "mimetype": "text/x-r-source",
   "name": "R",
   "pygments_lexer": "r",
   "version": "4.4.2"
  }
 },
 "nbformat": 4,
 "nbformat_minor": 2
}
