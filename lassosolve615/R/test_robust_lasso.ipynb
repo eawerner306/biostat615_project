{
 "cells": [
  {
   "cell_type": "code",
   "execution_count": 29,
   "metadata": {
    "vscode": {
     "languageId": "r"
    }
   },
   "outputs": [
    {
     "name": "stderr",
     "output_type": "stream",
     "text": [
      "Warning message in robust_lasso(X, y, lambda = 0.05, method = \"CGDA\", priority = \"speed\"):\n",
      "\"The priority argument is only used when method is set to 'auto'.\"\n"
     ]
    },
    {
     "name": "stdout",
     "output_type": "stream",
     "text": [
      "$method\n",
      "[1] \"CGDA\"\n",
      "\n",
      "$fit\n",
      "$fit$beta\n",
      " [1]  0.000000000  0.000000000  0.119849625  0.000000000  0.000000000\n",
      " [6]  0.000000000  0.000000000  0.007392976 -0.018663902  0.022725695\n",
      "[11]  0.000000000  0.000000000  0.074010640  0.000000000  0.000000000\n",
      "[16]  0.000000000  0.000000000  0.266634386  0.000000000  0.000000000\n",
      "[21]  0.007300960 -0.029613100  0.000000000  0.197686282  0.000000000\n",
      "[26]  0.127538424  0.000000000  0.000000000 -0.097685448 -0.021224654\n",
      "[31]  0.000000000  0.000000000 -0.050548256  0.000000000 -0.033279025\n",
      "[36] -0.074218144  0.000000000  0.000000000  0.000000000  0.000000000\n",
      "[41]  0.071709157  0.000000000 -0.047577409 -0.037304917  0.000000000\n",
      "[46]  0.049066217  0.000000000  0.000000000  0.000000000  0.000000000\n",
      "\n",
      "$fit$iter\n",
      "[1] 17\n",
      "\n",
      "$fit$convergence\n",
      "[1] TRUE\n",
      "\n",
      "\n"
     ]
    }
   ],
   "source": [
    "source(\"robust_lasso.R\")\n",
    "\n",
    "# 加载测试框架\n",
    "library(testthat)\n",
    "\n",
    "# 模拟数据\n",
    "set.seed(123)\n",
    "n <- 100\n",
    "p <- 50\n",
    "X <- matrix(rnorm(n * p), nrow = n, ncol = p)\n",
    "y <- rnorm(n)\n",
    "lambda <- 0.05\n",
    "\n",
    "result <- robust_lasso(X, y, lambda = 0.05,method='CGDA', priority = 'speed')\n",
    "print(result)\n",
    "\n"
   ]
  },
  {
   "cell_type": "code",
   "execution_count": null,
   "metadata": {
    "vscode": {
     "languageId": "r"
    }
   },
   "outputs": [],
   "source": [
    "test_that(\"robust_lasso works correctly with manual methods\", {\n",
    "  # 测试指定算法\n",
    "  methods <- c(\"Coordinate_Descent\", \"LARS\", \"FISTA\", \"SLA\", \"CGDA\", \"ISTA\", \"PFA\")\n",
    "  for (method in methods) {\n",
    "    result <- robust_lasso(X, y, lambda = 0.05, method = method)\n",
    "    expect_equal(result$method, method)\n",
    "    expect_true(!is.null(result$fit))\n",
    "  }\n",
    "})"
   ]
  },
  {
   "cell_type": "code",
   "execution_count": null,
   "metadata": {
    "vscode": {
     "languageId": "r"
    }
   },
   "outputs": [],
   "source": [
    "test_that(\"robust_lasso handles invalid methods gracefully\", {\n",
    "  # 测试未知算法\n",
    "  expect_error(robust_lasso(X, y, lambda = 0.05, method = \"unknown\"), \"Unknown method\")\n",
    "})\n"
   ]
  }
 ],
 "metadata": {
  "kernelspec": {
   "display_name": "R",
   "language": "R",
   "name": "ir"
  },
  "language_info": {
   "codemirror_mode": "r",
   "file_extension": ".r",
   "mimetype": "text/x-r-source",
   "name": "R",
   "pygments_lexer": "r",
   "version": "4.4.2"
  }
 },
 "nbformat": 4,
 "nbformat_minor": 2
}
