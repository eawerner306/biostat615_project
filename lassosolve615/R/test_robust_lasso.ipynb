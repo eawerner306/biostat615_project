{
 "cells": [
  {
   "cell_type": "code",
   "execution_count": null,
   "metadata": {
    "vscode": {
     "languageId": "r"
    }
   },
   "outputs": [
    {
     "name": "stdout",
     "output_type": "stream",
     "text": [
      "-- \u001b[1m\u001b[33mFailure\u001b[39m: choose_lasso_algorithm works correctly\u001b[22m -----------------------------\n",
      "choose_lasso_algorithm(X, y, lambda, priority = \"accuracy\", sparsity = \"high\") not equal to \"FISTA\".\n",
      "1/1 mismatches\n",
      "x[1]: \"No suitable algorithm found. Please check your inputs.\"\n",
      "y[1]: \"FISTA\"\n",
      "\n",
      "-- \u001b[1m\u001b[33mFailure\u001b[39m: choose_lasso_algorithm works correctly\u001b[22m -----------------------------\n",
      "choose_lasso_algorithm(X, y, lambda, priority = \"sparsity\", feature_size = \"high\") not equal to \"PFA\".\n",
      "1/1 mismatches\n",
      "x[1]: \"SLA\"\n",
      "y[1]: \"PFA\"\n",
      "\n",
      "-- \u001b[1m\u001b[33mFailure\u001b[39m: choose_lasso_algorithm works correctly\u001b[22m -----------------------------\n",
      "choose_lasso_algorithm(X, y, lambda) not equal to \"FISTA\".\n",
      "1/1 mismatches\n",
      "x[1]: \"ISTA\"\n",
      "y[1]: \"FISTA\"\n",
      "\n"
     ]
    },
    {
     "ename": "ERROR",
     "evalue": "\u001b[1m\u001b[33mError\u001b[39m:\u001b[22m\n\u001b[33m!\u001b[39m Test failed\n",
     "output_type": "error",
     "traceback": [
      "\u001b[1m\u001b[33mError\u001b[39m:\u001b[22m\n\u001b[33m!\u001b[39m Test failed\nTraceback:\n",
      "1. (function () \n . expr)()",
      "2. reporter$stop_if_needed()",
      "3. abort(\"Test failed\", call = NULL)",
      "4. signal_abort(cnd, .file)",
      "5. signalCondition(cnd)"
     ]
    }
   ],
   "source": [
    "source(\"robust_lasso.R\")\n",
    "\n",
    "# 加载测试框架\n",
    "library(testthat)\n",
    "\n",
    "# 模拟数据\n",
    "set.seed(123)\n",
    "n <- 100\n",
    "p <- 50\n",
    "X <- matrix(rnorm(n * p), nrow = n, ncol = p)\n",
    "y <- rnorm(n)\n",
    "lambda <- 0.05\n",
    "\n",
    "# 单元测试代码\n",
    "# test_that(\"choose_lasso_algorithm works correctly\", {\n",
    "#   # 测试不同优先级和数据条件\n",
    "#   # expect_equal(choose_lasso_algorithm(X, y, lambda, priority = \"speed\", data_size = \"large\"), \"FISTA\")\n",
    "#   # expect_equal(choose_lasso_algorithm(X, y, lambda, priority = \"accuracy\", sparsity = \"high\"), \"FISTA\")\n",
    "#   # expect_equal(choose_lasso_algorithm(X, y, lambda, priority = \"sparsity\", feature_size = \"high\"), \"PFA\")\n",
    "#   # expect_equal(choose_lasso_algorithm(X, y, lambda, priority = \"scalability\", data_size = \"very_large\"), \"SLA\")\n",
    "  \n",
    "#   # 测试默认参数\n",
    "#   expect_equal(choose_lasso_algorithm(X, y, lambda), \"FISTA\")\n",
    "  \n",
    "#   # 测试无匹配情况\n",
    "#   expect_equal(choose_lasso_algorithm(X, y, lambda, priority = \"invalid_priority\"), \n",
    "#                \"No suitable algorithm found. Please check your inputs.\")\n",
    "# })\n",
    "\n",
    "test_that(\"robust_lasso works correctly with auto method\", {\n",
    "  # 测试自动选择算法\n",
    "  result <- robust_lasso(X, y, lambda = 0.05, method = \"auto\")\n",
    "  expect_true(result$method %in% c(\"Coordinate_Descent\", \"LARS\", \"FISTA\", \"SLA\", \"CGDA\", \"ISTA\", \"PFA\"))\n",
    "  expect_true(!is.null(result$fit))\n",
    "})\n",
    "\n",
    "test_that(\"robust_lasso works correctly with manual methods\", {\n",
    "  # 测试指定算法\n",
    "  methods <- c(\"Coordinate_Descent\", \"LARS\", \"FISTA\", \"SLA\", \"CGDA\", \"ISTA\", \"PFA\")\n",
    "  for (method in methods) {\n",
    "    result <- robust_lasso(X, y, lambda = 0.05, method = method)\n",
    "    expect_equal(result$method, method)\n",
    "    expect_true(!is.null(result$fit))\n",
    "  }\n",
    "})\n",
    "\n",
    "test_that(\"robust_lasso handles invalid methods gracefully\", {\n",
    "  # 测试未知算法\n",
    "  expect_error(robust_lasso(X, y, lambda = 0.05, method = \"unknown\"), \"Unknown method\")\n",
    "})\n",
    "\n",
    "# 运行测试\n",
    "test_file(\"test_lasso.R\")\n",
    "\n"
   ]
  }
 ],
 "metadata": {
  "kernelspec": {
   "display_name": "R",
   "language": "R",
   "name": "ir"
  },
  "language_info": {
   "codemirror_mode": "r",
   "file_extension": ".r",
   "mimetype": "text/x-r-source",
   "name": "R",
   "pygments_lexer": "r",
   "version": "4.4.2"
  }
 },
 "nbformat": 4,
 "nbformat_minor": 2
}
